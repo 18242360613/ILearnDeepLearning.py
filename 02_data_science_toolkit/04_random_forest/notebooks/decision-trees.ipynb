{
 "cells": [
  {
   "cell_type": "markdown",
   "metadata": {},
   "source": [
    "# Decision Trees\n",
    "---"
   ]
  },
  {
   "cell_type": "markdown",
   "metadata": {},
   "source": [
    "## 00. Imports"
   ]
  },
  {
   "cell_type": "code",
   "execution_count": 1,
   "metadata": {},
   "outputs": [],
   "source": [
    "import numpy as np"
   ]
  },
  {
   "cell_type": "markdown",
   "metadata": {},
   "source": [
    "## 01. Gini Index"
   ]
  },
  {
   "cell_type": "code",
   "execution_count": 2,
   "metadata": {},
   "outputs": [],
   "source": [
    "def group_gini_index(samples: np.array) -> float:\n",
    "    n_samples = samples.shape[0]\n",
    "    _, n_groups = np.unique(samples, return_counts=True)\n",
    "    return 1 - sum(map(lambda x: (x/n_samples)**2, n_groups))"
   ]
  },
  {
   "cell_type": "code",
   "execution_count": 4,
   "metadata": {},
   "outputs": [],
   "source": [
    "def groups_gini_index(first: np.array, second: np.array) -> float:\n",
    "    n_first = first.shape[0]\n",
    "    n_second = second.shape[0]\n",
    "    n_total = n_first + n_second\n",
    "    return group_gini_index(first) * n_first / n_total + \\\n",
    "           group_gini_index(second) * n_second / n_total"
   ]
  },
  {
   "cell_type": "markdown",
   "metadata": {},
   "source": [
    "## 02. Split"
   ]
  },
  {
   "cell_type": "code",
   "execution_count": 32,
   "metadata": {},
   "outputs": [],
   "source": [
    "def find_split(X: np.array, y: np.array):\n",
    "    n_samples, n_features = X.shape\n",
    "    split_feature, split_value, best_gini, X_left, X_right, y_left, y_right = \\\n",
    "        None, None, None, None, None, None, None\n",
    "    \n",
    "    for feature_idx in range(n_features):\n",
    "        order = X[:, feature_idx].argsort()\n",
    "        X_sorted = X[order]\n",
    "        y_sorted = y[order]\n",
    "        \n",
    "        for sample_idx in range(1, n_samples):\n",
    "            y_left_, y_right_ = np.split(y_sorted, [sample_idx])\n",
    "            gini = groups_gini_index(y_left_, y_right_)\n",
    "            \n",
    "            if best_gini == None or gini < best_gini:\n",
    "                best_gini = gini\n",
    "                split_feature = feature_idx\n",
    "                split_value = (X_sorted[sample_idx, feature_idx] + X_sorted[sample_idx-1, feature_idx])/2\n",
    "                y_left, y_right = y_left_, y_right_\n",
    "                X_left, X_right = np.split(X_sorted, [sample_idx])\n",
    "            \n",
    "    return split_feature, split_value, best_gini, X_left, X_right, y_left, y_right"
   ]
  },
  {
   "cell_type": "markdown",
   "metadata": {},
   "source": [
    "## 03. Tree structure"
   ]
  },
  {
   "cell_type": "code",
   "execution_count": 35,
   "metadata": {},
   "outputs": [],
   "source": [
    "class Node():\n",
    "    def __init__(self, label = None, split_feature = None, split_value = None):\n",
    "        self.label = label\n",
    "        self.split_feature = split_feature\n",
    "        self.split_value = split_value\n",
    "        self.left = None\n",
    "        self.right = None"
   ]
  },
  {
   "cell_type": "markdown",
   "metadata": {},
   "source": [
    "## 04. Load test data set"
   ]
  },
  {
   "cell_type": "code",
   "execution_count": 33,
   "metadata": {},
   "outputs": [],
   "source": [
    "FEATURES_COLUMN_NAMES = [\n",
    "    \"sepal_length\", \n",
    "    \"sepal_width\", \n",
    "    \"petal_length\", \n",
    "    \"petal_width\"\n",
    "]\n",
    "\n",
    "LABELS_COLUMN_NAMES = [\n",
    "    \"species\"\n",
    "]\n",
    "\n",
    "COLUMN_NAMES = FEATURES_COLUMN_NAMES + \\\n",
    "    LABELS_COLUMN_NAMES"
   ]
  },
  {
   "cell_type": "code",
   "execution_count": 23,
   "metadata": {},
   "outputs": [],
   "source": [
    "import pandas as pd\n",
    "df = pd.read_csv('../data_sets/iris.csv', names=COLUMN_NAMES)\n",
    "X = df[FEATURES_COLUMN_NAMES].values\n",
    "y = df[LABELS_COLUMN_NAMES].values"
   ]
  },
  {
   "cell_type": "code",
   "execution_count": 27,
   "metadata": {},
   "outputs": [],
   "source": [
    "from sklearn.preprocessing import LabelEncoder\n",
    "le = LabelEncoder()\n",
    "y = le.fit_transform(y.ravel())"
   ]
  },
  {
   "cell_type": "code",
   "execution_count": 30,
   "metadata": {},
   "outputs": [],
   "source": [
    "from sklearn.model_selection import train_test_split\n",
    "X_train, X_test, y_train, y_test = train_test_split(X, y, test_size = 0.2, random_state = 0)"
   ]
  }
 ],
 "metadata": {
  "kernelspec": {
   "display_name": "Python 3",
   "language": "python",
   "name": "python3"
  },
  "language_info": {
   "codemirror_mode": {
    "name": "ipython",
    "version": 3
   },
   "file_extension": ".py",
   "mimetype": "text/x-python",
   "name": "python",
   "nbconvert_exporter": "python",
   "pygments_lexer": "ipython3",
   "version": "3.7.3"
  }
 },
 "nbformat": 4,
 "nbformat_minor": 4
}
