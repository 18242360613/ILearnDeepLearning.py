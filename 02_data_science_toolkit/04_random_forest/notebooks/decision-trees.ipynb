{
 "cells": [
  {
   "cell_type": "markdown",
   "metadata": {},
   "source": [
    "# Decision Trees\n",
    "---"
   ]
  },
  {
   "cell_type": "markdown",
   "metadata": {},
   "source": [
    "## 00. Imports"
   ]
  },
  {
   "cell_type": "code",
   "execution_count": 1,
   "metadata": {},
   "outputs": [],
   "source": [
    "import numpy as np"
   ]
  },
  {
   "cell_type": "markdown",
   "metadata": {},
   "source": [
    "## 01. Gini Index"
   ]
  },
  {
   "cell_type": "code",
   "execution_count": 2,
   "metadata": {},
   "outputs": [],
   "source": [
    "def group_gini_index(samples: np.array) -> float:\n",
    "    n_samples = samples.shape[0]\n",
    "    _, n_groups = np.unique(samples, return_counts=True)\n",
    "    return 1 - sum(map(lambda x: (x/n_samples)**2, n_groups))"
   ]
  },
  {
   "cell_type": "code",
   "execution_count": 3,
   "metadata": {},
   "outputs": [],
   "source": [
    "def groups_gini_index(first: np.array, second: np.array) -> float:\n",
    "    n_first = first.shape[0]\n",
    "    n_second = second.shape[0]\n",
    "    n_total = n_first + n_second\n",
    "    return group_gini_index(first) * n_first / n_total + \\\n",
    "           group_gini_index(second) * n_second / n_total"
   ]
  },
  {
   "cell_type": "markdown",
   "metadata": {},
   "source": [
    "## 02. Split"
   ]
  },
  {
   "cell_type": "code",
   "execution_count": 4,
   "metadata": {},
   "outputs": [],
   "source": [
    "def find_split(X: np.array, y: np.array):\n",
    "    n_samples, n_features = X.shape\n",
    "    split_feature, split_value, best_gini, X_left, X_right, y_left, y_right = \\\n",
    "        None, None, None, None, None, None, None\n",
    "    \n",
    "    for feature_idx in range(n_features):\n",
    "        order = X[:, feature_idx].argsort()\n",
    "        X_sorted = X[order]\n",
    "        y_sorted = y[order]\n",
    "        \n",
    "        for sample_idx in range(1, n_samples):\n",
    "            y_left_, y_right_ = np.split(y_sorted, [sample_idx])\n",
    "            gini = groups_gini_index(y_left_, y_right_)\n",
    "            \n",
    "            if best_gini == None or gini < best_gini:\n",
    "                best_gini = gini\n",
    "                split_feature = feature_idx\n",
    "                split_value = (X_sorted[sample_idx, feature_idx] + X_sorted[sample_idx-1, feature_idx])/2\n",
    "                y_left, y_right = y_left_, y_right_\n",
    "                X_left, X_right = np.split(X_sorted, [sample_idx])\n",
    "            \n",
    "    return split_feature, split_value, X_left, X_right, y_left, y_right"
   ]
  },
  {
   "cell_type": "markdown",
   "metadata": {},
   "source": [
    "## 03. Tree structure"
   ]
  },
  {
   "cell_type": "code",
   "execution_count": 5,
   "metadata": {},
   "outputs": [],
   "source": [
    "class Node():\n",
    "    def __init__(self, assigned_label = None, split_feature = None, split_value = None):\n",
    "        self.assigned_label = assigned_label\n",
    "        self.split_feature = split_feature\n",
    "        self.split_value = split_value\n",
    "        self.left_child = None\n",
    "        self.right_child = None"
   ]
  },
  {
   "cell_type": "code",
   "execution_count": 14,
   "metadata": {},
   "outputs": [],
   "source": [
    "class TreeClassifier():\n",
    "    def __init__(self, max_depth: int, min_samples_split: int):\n",
    "        self.max_depth = max_depth\n",
    "        self.min_samples_split = min_samples_split\n",
    "        \n",
    "    def fit(self, X, y):\n",
    "        self.root = Node()\n",
    "        self.__split(X, y, self.root, 1)\n",
    "        \n",
    "    def predict(self, X):\n",
    "        predictions = np.empty(X.shape[0])\n",
    "        for idx, x in enumerate(X):\n",
    "            predictions[idx] = self.__single_example_prdiction(x)\n",
    "        return predictions\n",
    "        \n",
    "    def __split(self, X: np.array, y: np.array, node: Node, depth: int):\n",
    "        n_samples = y.shape[0]\n",
    "        \n",
    "        if n_samples <= self.min_samples_split or depth >= self.max_depth:\n",
    "            unique, counts = np.unique(y, return_counts=True)\n",
    "            node.assigned_label = unique[np.argmax(counts)]\n",
    "            return\n",
    "        \n",
    "        node.split_feature, node.split_value, X_left, X_right, y_left, y_right = find_split(X, y)\n",
    "        node.left_child, node.right_child = Node(), Node()\n",
    "        \n",
    "        self.__split(X_left, y_left, node.left_child, depth + 1)\n",
    "        self.__split(X_right, y_right, node.right_child, depth + 1)\n",
    "        \n",
    "    def __single_example_prdiction(self, x: np.array):\n",
    "        node = self.root\n",
    "        while node.assigned_label == None:\n",
    "            if x[node.split_feature] > node.split_value:\n",
    "                node = node.right_child\n",
    "            else:\n",
    "                node = node.left_child\n",
    "        return node.assigned_label"
   ]
  },
  {
   "cell_type": "markdown",
   "metadata": {},
   "source": [
    "## 04. Test using 'Iris' data set"
   ]
  },
  {
   "cell_type": "markdown",
   "metadata": {},
   "source": [
    "### 04.00.  Imports"
   ]
  },
  {
   "cell_type": "code",
   "execution_count": 32,
   "metadata": {},
   "outputs": [],
   "source": [
    "import pandas as pd\n",
    "from sklearn.preprocessing import LabelEncoder\n",
    "from sklearn.model_selection import train_test_split\n",
    "from sklearn.metrics import accuracy_score"
   ]
  },
  {
   "cell_type": "markdown",
   "metadata": {},
   "source": [
    "### 04.01. Settings"
   ]
  },
  {
   "cell_type": "code",
   "execution_count": 30,
   "metadata": {},
   "outputs": [],
   "source": [
    "FEATURES_COLUMN_NAMES = [\n",
    "    \"sepal_length\", \n",
    "    \"sepal_width\", \n",
    "    \"petal_length\", \n",
    "    \"petal_width\"\n",
    "]\n",
    "\n",
    "LABELS_COLUMN_NAMES = [\n",
    "    \"species\"\n",
    "]\n",
    "\n",
    "COLUMN_NAMES = FEATURES_COLUMN_NAMES + \\\n",
    "    LABELS_COLUMN_NAMES\n",
    "\n",
    "DATA_SET_PATH = \"../data_sets/iris.csv\""
   ]
  },
  {
   "cell_type": "markdown",
   "metadata": {},
   "source": [
    "### 04.02. Load"
   ]
  },
  {
   "cell_type": "code",
   "execution_count": 16,
   "metadata": {},
   "outputs": [],
   "source": [
    "df = pd.read_csv(DATA_SET_PATH, names=COLUMN_NAMES)\n",
    "X = df[FEATURES_COLUMN_NAMES].values\n",
    "y = df[LABELS_COLUMN_NAMES].values"
   ]
  },
  {
   "cell_type": "markdown",
   "metadata": {},
   "source": [
    "### 04.03. Feature engineering"
   ]
  },
  {
   "cell_type": "code",
   "execution_count": 17,
   "metadata": {},
   "outputs": [],
   "source": [
    "le = LabelEncoder()\n",
    "y = le.fit_transform(y.ravel())"
   ]
  },
  {
   "cell_type": "markdown",
   "metadata": {},
   "source": [
    "### 04.04. Data split"
   ]
  },
  {
   "cell_type": "code",
   "execution_count": 18,
   "metadata": {},
   "outputs": [],
   "source": [
    "X_train, X_test, y_train, y_test = train_test_split(X, y, test_size = 0.25, random_state = 0)"
   ]
  },
  {
   "cell_type": "markdown",
   "metadata": {},
   "source": [
    "### 04.05. Train"
   ]
  },
  {
   "cell_type": "code",
   "execution_count": 31,
   "metadata": {},
   "outputs": [],
   "source": [
    "tree_classifier = TreeClassifier(max_depth=10, min_samples_split=2)\n",
    "tree_classifier.fit(X_train, y_train)"
   ]
  },
  {
   "cell_type": "markdown",
   "metadata": {},
   "source": [
    "### 04.06. Predict"
   ]
  },
  {
   "cell_type": "code",
   "execution_count": 34,
   "metadata": {},
   "outputs": [
    {
     "name": "stdout",
     "output_type": "stream",
     "text": [
      "Accuracy: 96.67%\n"
     ]
    }
   ],
   "source": [
    "y_pred = tree_classifier.predict(X_test)\n",
    "acc = accuracy_score(y_test, y_pred)\n",
    "print(\"Accuracy: {0:.2f}%\".format(acc * 100))"
   ]
  }
 ],
 "metadata": {
  "kernelspec": {
   "display_name": "Python 3",
   "language": "python",
   "name": "python3"
  },
  "language_info": {
   "codemirror_mode": {
    "name": "ipython",
    "version": 3
   },
   "file_extension": ".py",
   "mimetype": "text/x-python",
   "name": "python",
   "nbconvert_exporter": "python",
   "pygments_lexer": "ipython3",
   "version": "3.7.3"
  }
 },
 "nbformat": 4,
 "nbformat_minor": 4
}
