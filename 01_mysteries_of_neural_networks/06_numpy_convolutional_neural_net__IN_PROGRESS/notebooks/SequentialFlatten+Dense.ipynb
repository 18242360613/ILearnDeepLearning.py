{
 "cells": [
  {
   "cell_type": "markdown",
   "metadata": {},
   "source": [
    "# Sequential Flatten + Dense"
   ]
  },
  {
   "cell_type": "markdown",
   "metadata": {},
   "source": [
    "## 00. Imports"
   ]
  },
  {
   "cell_type": "code",
   "execution_count": 1,
   "metadata": {},
   "outputs": [],
   "source": [
    "import numpy as np\n",
    "import seaborn as sn\n",
    "import pandas as pd\n",
    "import matplotlib.pyplot as plt\n",
    "from tensorflow.keras.datasets import fashion_mnist\n",
    "from sklearn.metrics import confusion_matrix"
   ]
  },
  {
   "cell_type": "code",
   "execution_count": 2,
   "metadata": {},
   "outputs": [],
   "source": [
    "import sys\n",
    "sys.path.append(\"../\")"
   ]
  },
  {
   "cell_type": "code",
   "execution_count": 3,
   "metadata": {},
   "outputs": [],
   "source": [
    "from src.activation.relu import ReluLayer\n",
    "from src.activation.softmax import SoftmaxLayer\n",
    "from src.layers.dense import DenseLayer\n",
    "from src.layers.flatten import FlattenLayer\n",
    "from src.model.sequential import SequentialModel\n",
    "from src.utils.core import convert_categorical2one_hot, convert_prob2categorical\n",
    "from src.utils.metrics import calculate_accuracy"
   ]
  },
  {
   "cell_type": "markdown",
   "metadata": {},
   "source": [
    "## 01. Settings"
   ]
  },
  {
   "cell_type": "code",
   "execution_count": 4,
   "metadata": {},
   "outputs": [],
   "source": [
    "# number of samples in the train data set\n",
    "N_TRAIN_SAMPLES = 5000\n",
    "# number of samples in the test data set\n",
    "N_TEST_SAMPLES = 500\n",
    "# number of samples in the validation data set\n",
    "N_VALID_SAMPLES = 500\n",
    "# number of classes\n",
    "N_CLASSES = 10\n",
    "# image size\n",
    "IMAGE_SIZE = 28"
   ]
  },
  {
   "cell_type": "markdown",
   "metadata": {},
   "source": [
    "## 02. Build data set"
   ]
  },
  {
   "cell_type": "code",
   "execution_count": 5,
   "metadata": {},
   "outputs": [
    {
     "name": "stdout",
     "output_type": "stream",
     "text": [
      "trainX shape: (60000, 28, 28)\n",
      "trainY shape: (60000,)\n",
      "testX shape: (10000, 28, 28)\n",
      "testY shape: (10000,)\n"
     ]
    }
   ],
   "source": [
    "((trainX, trainY), (testX, testY)) = fashion_mnist.load_data()\n",
    "print(\"trainX shape:\", trainX.shape)\n",
    "print(\"trainY shape:\", trainY.shape)\n",
    "print(\"testX shape:\", testX.shape)\n",
    "print(\"testY shape:\", testY.shape)"
   ]
  },
  {
   "cell_type": "code",
   "execution_count": 6,
   "metadata": {},
   "outputs": [],
   "source": [
    "X_train = trainX[:N_TRAIN_SAMPLES, :, :]\n",
    "y_train = trainY[:N_TRAIN_SAMPLES]\n",
    "\n",
    "X_test = trainX[N_TRAIN_SAMPLES:N_TRAIN_SAMPLES+N_TEST_SAMPLES, :, :]\n",
    "y_test = trainY[N_TRAIN_SAMPLES:N_TRAIN_SAMPLES+N_TEST_SAMPLES]\n",
    "\n",
    "X_valid = testX[:N_VALID_SAMPLES, :, :]\n",
    "y_valid = testY[:N_VALID_SAMPLES]"
   ]
  },
  {
   "cell_type": "markdown",
   "metadata": {},
   "source": [
    "**NOTE:** We need to change the data format to the shape supported by my implementation."
   ]
  },
  {
   "cell_type": "code",
   "execution_count": 7,
   "metadata": {},
   "outputs": [
    {
     "name": "stdout",
     "output_type": "stream",
     "text": [
      "X_train shape: (28, 28, 5000)\n",
      "y_train shape: (10, 5000)\n",
      "X_test shape: (28, 28, 500)\n",
      "y_test shape: (10, 500)\n",
      "X_valid shape: (28, 28, 500)\n",
      "y_valid shape: (10, 500)\n"
     ]
    }
   ],
   "source": [
    "X_train = np.moveaxis(X_train, 0, -1) / 255\n",
    "y_train = convert_categorical2one_hot(y_train).T\n",
    "X_test = np.moveaxis(X_test, 0, -1) / 255\n",
    "y_test = convert_categorical2one_hot(y_test).T\n",
    "X_valid = np.moveaxis(X_valid, 0, -1) / 255\n",
    "y_valid = convert_categorical2one_hot(y_valid).T\n",
    "print(\"X_train shape:\", X_train.shape)\n",
    "print(\"y_train shape:\", y_train.shape)\n",
    "print(\"X_test shape:\", X_test.shape)\n",
    "print(\"y_test shape:\", y_test.shape)\n",
    "print(\"X_valid shape:\", X_valid.shape)\n",
    "print(\"y_valid shape:\", y_valid.shape)"
   ]
  },
  {
   "cell_type": "markdown",
   "metadata": {},
   "source": [
    "## 03. Build model"
   ]
  },
  {
   "cell_type": "code",
   "execution_count": 8,
   "metadata": {},
   "outputs": [],
   "source": [
    "layers = [\n",
    "    FlattenLayer(),\n",
    "    DenseLayer.initialize(input_dim=IMAGE_SIZE * IMAGE_SIZE, output_dim=1000),\n",
    "    ReluLayer(),\n",
    "    DenseLayer.initialize(input_dim=1000, output_dim=1000),\n",
    "    ReluLayer(),\n",
    "    DenseLayer.initialize(input_dim=1000, output_dim=500),\n",
    "    ReluLayer(),\n",
    "    DenseLayer.initialize(input_dim=500, output_dim=100),\n",
    "    ReluLayer(),\n",
    "    DenseLayer.initialize(input_dim=100, output_dim=25),\n",
    "    ReluLayer(),\n",
    "    DenseLayer.initialize(input_dim=25, output_dim=N_CLASSES),\n",
    "    SoftmaxLayer()\n",
    "]\n",
    "\n",
    "model = SequentialModel(layers=layers)"
   ]
  },
  {
   "cell_type": "markdown",
   "metadata": {},
   "source": [
    "## 04. Train"
   ]
  },
  {
   "cell_type": "code",
   "execution_count": 9,
   "metadata": {},
   "outputs": [
    {
     "name": "stdout",
     "output_type": "stream",
     "text": [
      "Iteration: 00000 - cost: 1.18002 - accuracy: 0.60000\n",
      "Iteration: 00010 - cost: 0.63659 - accuracy: 0.76400\n",
      "Iteration: 00020 - cost: 0.61035 - accuracy: 0.79800\n",
      "Iteration: 00030 - cost: 0.62153 - accuracy: 0.79800\n",
      "Iteration: 00040 - cost: 0.66457 - accuracy: 0.78600\n",
      "Iteration: 00050 - cost: 0.71846 - accuracy: 0.79400\n",
      "Iteration: 00060 - cost: 0.78219 - accuracy: 0.79000\n",
      "Iteration: 00070 - cost: 0.84012 - accuracy: 0.79600\n",
      "Iteration: 00080 - cost: 0.89913 - accuracy: 0.79400\n",
      "Iteration: 00090 - cost: 0.95294 - accuracy: 0.79600\n",
      "Iteration: 00100 - cost: 0.99767 - accuracy: 0.79600\n"
     ]
    }
   ],
   "source": [
    "model.train(\n",
    "    x_train=X_train, \n",
    "    y_train=y_train, \n",
    "    x_test=X_test, \n",
    "    y_test=y_test, \n",
    "    epochs=100, \n",
    "    lr=0.005\n",
    ")"
   ]
  },
  {
   "cell_type": "markdown",
   "metadata": {},
   "source": [
    "## 05. Predict and examine results"
   ]
  },
  {
   "cell_type": "code",
   "execution_count": 10,
   "metadata": {},
   "outputs": [
    {
     "name": "stdout",
     "output_type": "stream",
     "text": [
      "acc:  0.846\n"
     ]
    }
   ],
   "source": [
    "y_hat = model.predict(X_valid)\n",
    "acc = calculate_accuracy(y_hat, y_valid)\n",
    "print(\"acc: \", acc)"
   ]
  },
  {
   "cell_type": "code",
   "execution_count": 11,
   "metadata": {},
   "outputs": [],
   "source": [
    "y_hat = convert_prob2categorical(y_hat)\n",
    "y_valid = convert_prob2categorical(y_valid)"
   ]
  },
  {
   "cell_type": "code",
   "execution_count": 12,
   "metadata": {},
   "outputs": [
    {
     "data": {
      "image/png": "[encoded data removed]",
      "text/plain": [
       "<Figure size 1440x1008 with 2 Axes>"
      ]
     },
     "metadata": {
      "needs_background": "light"
     },
     "output_type": "display_data"
    }
   ],
   "source": [
    "df_cm = pd.DataFrame(\n",
    "    confusion_matrix(y_valid, y_hat), \n",
    "    range(10), \n",
    "    range(10)\n",
    ")\n",
    "plt.figure(figsize = (20,14))\n",
    "sn.heatmap(df_cm, annot=True)\n",
    "plt.show()"
   ]
  }
 ],
 "metadata": {
  "kernelspec": {
   "display_name": "Python 3",
   "language": "python",
   "name": "python3"
  },
  "language_info": {
   "codemirror_mode": {
    "name": "ipython",
    "version": 3
   },
   "file_extension": ".py",
   "mimetype": "text/x-python",
   "name": "python",
   "nbconvert_exporter": "python",
   "pygments_lexer": "ipython3",
   "version": "3.7.3"
  }
 },
 "nbformat": 4,
 "nbformat_minor": 4
}
