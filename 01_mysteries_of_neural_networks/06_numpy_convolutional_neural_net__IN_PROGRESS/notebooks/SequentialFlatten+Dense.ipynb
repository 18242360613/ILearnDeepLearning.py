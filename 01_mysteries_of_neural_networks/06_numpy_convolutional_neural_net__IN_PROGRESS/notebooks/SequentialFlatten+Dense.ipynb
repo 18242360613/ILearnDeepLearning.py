{
 "cells": [
  {
   "cell_type": "markdown",
   "metadata": {},
   "source": [
    "# Sequential Flatten + Dense"
   ]
  },
  {
   "cell_type": "markdown",
   "metadata": {},
   "source": [
    "## 00. Imports"
   ]
  },
  {
   "cell_type": "code",
   "execution_count": 1,
   "metadata": {},
   "outputs": [],
   "source": [
    "import numpy as np\n",
    "import seaborn as sn\n",
    "import pandas as pd\n",
    "import matplotlib.pyplot as plt\n",
    "from tensorflow.keras.datasets import fashion_mnist\n",
    "from sklearn.metrics import confusion_matrix"
   ]
  },
  {
   "cell_type": "code",
   "execution_count": 2,
   "metadata": {},
   "outputs": [],
   "source": [
    "import sys\n",
    "sys.path.append(\"../\")"
   ]
  },
  {
   "cell_type": "code",
   "execution_count": 3,
   "metadata": {},
   "outputs": [],
   "source": [
    "from src.activation.relu import ReluLayer\n",
    "from src.activation.softmax import SoftmaxLayer\n",
    "from src.layers.dense import DenseLayer\n",
    "from src.layers.flatten import FlattenLayer\n",
    "from src.model.sequential import SequentialModel\n",
    "from src.utils.core import convert_categorical2one_hot, convert_prob2categorical\n",
    "from src.utils.metrics import calculate_accuracy\n",
    "from src.optimizers.gradient_descent import GradientDescent\n",
    "from src.optimizers.rms_prop import RMSProp\n",
    "from src.optimizers.adam import Adam"
   ]
  },
  {
   "cell_type": "markdown",
   "metadata": {},
   "source": [
    "## 01. Settings"
   ]
  },
  {
   "cell_type": "code",
   "execution_count": 4,
   "metadata": {},
   "outputs": [],
   "source": [
    "# number of samples in the train data set\n",
    "N_TRAIN_SAMPLES = 10000\n",
    "# number of samples in the test data set\n",
    "N_TEST_SAMPLES = 1000\n",
    "# number of samples in the validation data set\n",
    "N_VALID_SAMPLES = 1000\n",
    "# number of classes\n",
    "N_CLASSES = 10\n",
    "# image size\n",
    "IMAGE_SIZE = 28"
   ]
  },
  {
   "cell_type": "markdown",
   "metadata": {},
   "source": [
    "## 02. Build data set"
   ]
  },
  {
   "cell_type": "code",
   "execution_count": 5,
   "metadata": {},
   "outputs": [
    {
     "name": "stdout",
     "output_type": "stream",
     "text": [
      "trainX shape: (60000, 28, 28)\n",
      "trainY shape: (60000,)\n",
      "testX shape: (10000, 28, 28)\n",
      "testY shape: (10000,)\n"
     ]
    }
   ],
   "source": [
    "((trainX, trainY), (testX, testY)) = fashion_mnist.load_data()\n",
    "print(\"trainX shape:\", trainX.shape)\n",
    "print(\"trainY shape:\", trainY.shape)\n",
    "print(\"testX shape:\", testX.shape)\n",
    "print(\"testY shape:\", testY.shape)"
   ]
  },
  {
   "cell_type": "code",
   "execution_count": 6,
   "metadata": {},
   "outputs": [],
   "source": [
    "X_train = trainX[:N_TRAIN_SAMPLES, :, :]\n",
    "y_train = trainY[:N_TRAIN_SAMPLES]\n",
    "\n",
    "X_test = trainX[N_TRAIN_SAMPLES:N_TRAIN_SAMPLES+N_TEST_SAMPLES, :, :]\n",
    "y_test = trainY[N_TRAIN_SAMPLES:N_TRAIN_SAMPLES+N_TEST_SAMPLES]\n",
    "\n",
    "X_valid = testX[:N_VALID_SAMPLES, :, :]\n",
    "y_valid = testY[:N_VALID_SAMPLES]"
   ]
  },
  {
   "cell_type": "markdown",
   "metadata": {},
   "source": [
    "**NOTE:** We need to change the data format to the shape supported by my implementation."
   ]
  },
  {
   "cell_type": "code",
   "execution_count": 7,
   "metadata": {},
   "outputs": [
    {
     "name": "stdout",
     "output_type": "stream",
     "text": [
      "X_train shape: (10000, 28, 28)\n",
      "y_train shape: (10000, 10)\n",
      "X_test shape: (1000, 28, 28)\n",
      "y_test shape: (1000, 10)\n",
      "X_valid shape: (1000, 28, 28)\n",
      "y_valid shape: (1000, 10)\n"
     ]
    }
   ],
   "source": [
    "X_train = X_train / 255\n",
    "y_train = convert_categorical2one_hot(y_train)\n",
    "X_test = X_test / 255\n",
    "y_test = convert_categorical2one_hot(y_test)\n",
    "X_valid = X_valid / 255\n",
    "y_valid = convert_categorical2one_hot(y_valid)\n",
    "print(\"X_train shape:\", X_train.shape)\n",
    "print(\"y_train shape:\", y_train.shape)\n",
    "print(\"X_test shape:\", X_test.shape)\n",
    "print(\"y_test shape:\", y_test.shape)\n",
    "print(\"X_valid shape:\", X_valid.shape)\n",
    "print(\"y_valid shape:\", y_valid.shape)"
   ]
  },
  {
   "cell_type": "markdown",
   "metadata": {},
   "source": [
    "## 03. Build model"
   ]
  },
  {
   "cell_type": "code",
   "execution_count": 8,
   "metadata": {},
   "outputs": [],
   "source": [
    "layers = [\n",
    "    FlattenLayer(),\n",
    "    DenseLayer.initialize(units_prev=IMAGE_SIZE * IMAGE_SIZE, units_curr=1000),\n",
    "    ReluLayer(),\n",
    "    DenseLayer.initialize(units_prev=1000, units_curr=1000),\n",
    "    ReluLayer(),\n",
    "    DenseLayer.initialize(units_prev=1000, units_curr=500),\n",
    "    ReluLayer(),\n",
    "    DenseLayer.initialize(units_prev=500, units_curr=100),\n",
    "    ReluLayer(),\n",
    "    DenseLayer.initialize(units_prev=100, units_curr=25),\n",
    "    ReluLayer(),\n",
    "    DenseLayer.initialize(units_prev=25, units_curr=N_CLASSES),\n",
    "    SoftmaxLayer()\n",
    "]\n",
    "\n",
    "optimizer = Adam(lr=0.003)\n",
    "\n",
    "model = SequentialModel(\n",
    "    layers=layers,\n",
    "    optimizer=optimizer\n",
    ")"
   ]
  },
  {
   "cell_type": "markdown",
   "metadata": {},
   "source": [
    "## 04. Train"
   ]
  },
  {
   "cell_type": "code",
   "execution_count": null,
   "metadata": {},
   "outputs": [
    {
     "name": "stdout",
     "output_type": "stream",
     "text": [
      "Iteration: 00001 - cost: 0.89505 - accuracy: 0.67600\n",
      "Iteration: 00002 - cost: 0.52590 - accuracy: 0.79100\n",
      "Iteration: 00003 - cost: 0.50939 - accuracy: 0.80800\n",
      "Iteration: 00004 - cost: 0.47052 - accuracy: 0.84000\n",
      "Iteration: 00005 - cost: 0.46983 - accuracy: 0.83500\n",
      "Iteration: 00006 - cost: 0.45766 - accuracy: 0.85300\n",
      "Iteration: 00007 - cost: 0.45397 - accuracy: 0.84600\n",
      "Iteration: 00008 - cost: 0.51136 - accuracy: 0.82000\n",
      "Iteration: 00009 - cost: 0.40910 - accuracy: 0.87100\n",
      "Iteration: 00010 - cost: 0.44476 - accuracy: 0.86000\n"
     ]
    }
   ],
   "source": [
    "model.train(\n",
    "    x_train=X_train, \n",
    "    y_train=y_train, \n",
    "    x_test=X_test, \n",
    "    y_test=y_test, \n",
    "    epochs=30, \n",
    "    test_frequency=1\n",
    ")"
   ]
  },
  {
   "cell_type": "markdown",
   "metadata": {},
   "source": [
    "## 05. Predict and examine results"
   ]
  },
  {
   "cell_type": "code",
   "execution_count": null,
   "metadata": {},
   "outputs": [],
   "source": [
    "y_hat = model.predict(X_valid)\n",
    "acc = calculate_accuracy(y_hat, y_valid)\n",
    "print(\"acc: \", acc)"
   ]
  },
  {
   "cell_type": "code",
   "execution_count": null,
   "metadata": {},
   "outputs": [],
   "source": [
    "y_hat = convert_prob2categorical(y_hat)\n",
    "y_valid = convert_prob2categorical(y_valid)"
   ]
  },
  {
   "cell_type": "code",
   "execution_count": null,
   "metadata": {},
   "outputs": [],
   "source": [
    "df_cm = pd.DataFrame(\n",
    "    confusion_matrix(y_valid, y_hat), \n",
    "    range(10), \n",
    "    range(10)\n",
    ")\n",
    "plt.figure(figsize = (20,14))\n",
    "sn.heatmap(df_cm, annot=True)\n",
    "plt.show()"
   ]
  }
 ],
 "metadata": {
  "kernelspec": {
   "display_name": "Python 3",
   "language": "python",
   "name": "python3"
  },
  "language_info": {
   "codemirror_mode": {
    "name": "ipython",
    "version": 3
   },
   "file_extension": ".py",
   "mimetype": "text/x-python",
   "name": "python",
   "nbconvert_exporter": "python",
   "pygments_lexer": "ipython3",
   "version": "3.7.3"
  }
 },
 "nbformat": 4,
 "nbformat_minor": 4
}
